
   "source": [
    "import matplotlib.pyplot as plt\n",
    "\n",
    "# Tamanhos de entrada\n",
    "tamanhos = [100, 1000, 10000, 50000, 100000]\n",
    "\n",
    "# Tempos de execução para cada algoritmo\n",
    "tempos_selection_sort = [0.000000, 0.000000, 0.055000, 1.332000, 5.307000]\n",
    "tempos_insertion_sort = [0.000000, 0.001000, 0.040000, 0.984000, 4.019000]\n",
    "tempos_bubble_sort = [0.000000, 0.000000, 0.103000, 3.929000, 18.508000]\n",
    "tempos_merge_sort = [0.000000, 0.000000, 0.002000, 0.006000, 0.012000]\n",
    "tempos_quick_sort = [0.000000, 0.000000, 0.001000, 0.003000, 0.008000]\n",
    "tempos_heap_sort = [0.000000, 0.000000, 0.001000, 0.008000, 0.014000]\n",
    "\n",
    "# Plotando o gráfico\n",
    "plt.figure(figsize=(10, 6))\n",
    "plt.plot(tamanhos, tempos_selection_sort, label=\"Selection Sort\")\n",
    "plt.plot(tamanhos, tempos_insertion_sort, label=\"Insertion Sort\")\n",
    "plt.plot(tamanhos, tempos_bubble_sort, label=\"Bubble Sort\")\n",
    "plt.plot(tamanhos, tempos_merge_sort, label=\"Merge Sort\")\n",
    "plt.plot(tamanhos, tempos_quick_sort, label=\"Quick Sort\")\n",
    "plt.plot(tamanhos, tempos_heap_sort, label=\"Heap Sort\")\n",
    "\n",
    "# Configurando o gráfico\n",
    "plt.xlabel(\"Tamanho da entrada\")\n",
    "plt.ylabel(\"Tempo de execução (segundos)\")\n",
    "plt.title(\"Comparação de Algoritmos de Ordenação\")\n",
    "plt.legend()\n",
    "plt.grid(True)\n",
    "plt.xscale(\"log\")  # Escala logarítmica para o tamanho da entrada\n",
    "plt.yscale(\"log\")  # Escala logarítmica para o tempo de execução\n",
    "\n",
    "# Exibindo o gráfico\n",
    "plt.show()\n",
    "\n"
   ]
  },
  {
   "cell_type": "code",
   "execution_count": null,
   "id": "1927ee6a-143c-41c7-ad5b-9d5313869750",
   "metadata": {},
   "outputs": [],
   "source": []
  }
 ],
 "metadata": {
  "kernelspec": {
   "display_name": "Python 3 (ipykernel)",
   "language": "python",
   "name": "python3"
  },
  "language_info": {
   "codemirror_mode": {
    "name": "ipython",
    "version": 3
   },
   "file_extension": ".py",
   "mimetype": "text/x-python",
   "name": "python",
   "nbconvert_exporter": "python",
   "pygments_lexer": "ipython3",
   "version": "3.13.0"
  }
 },
 "nbformat": 4,
 "nbformat_minor": 5
}
